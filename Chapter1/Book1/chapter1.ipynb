{
  "nbformat": 4,
  "nbformat_minor": 0,
  "metadata": {
    "colab": {
      "name": "chapter1.ipynb",
      "provenance": [],
      "authorship_tag": "ABX9TyNkqMb/3vgDGfmeaNWkl1yA",
      "include_colab_link": true
    },
    "kernelspec": {
      "name": "python3",
      "display_name": "Python 3"
    },
    "language_info": {
      "name": "python"
    }
  },
  "cells": [
    {
      "cell_type": "markdown",
      "metadata": {
        "id": "view-in-github",
        "colab_type": "text"
      },
      "source": [
        "<a href=\"https://colab.research.google.com/github/Asuskf/AI-Analisis-de-Twitts/blob/master/Chapter1/Book1/chapter1.ipynb\" target=\"_parent\"><img src=\"https://colab.research.google.com/assets/colab-badge.svg\" alt=\"Open In Colab\"/></a>"
      ]
    },
    {
      "cell_type": "markdown",
      "source": [
        "#Books:\n",
        "\n",
        "\n",
        "\n",
        "*   **Book1** = [Data Science from Scratch SECOND EDITION First Principles with Python by Joel Gru](https://www.amazon.es/Data-Science-Scratch-Principles-Python/dp/1492041130?__mk_es_ES=%C3%85M%C3%85%C5%BD%C3%95%C3%91&dchild=1&keywords=data+science&qid=1624268665&sr=8-8&linkCode=sl1&tag=oscarfmdc01-21&linkId=b701f61cbe8ee01459bd2b91d1b5ba33&language=es_ES&ref_=as_li_ss_tl)\n",
        "\n",
        "*   **Book2** = [Introducing Data Science Big data, machine learning, and more, using Python by Davy Cielen, Arno D. B. Meysman](https://www.amazon.com/-/es/Davy-Cielen/dp/1633430030)\n",
        "\n"
      ],
      "metadata": {
        "id": "m4yxtdv2McWa"
      }
    },
    {
      "cell_type": "markdown",
      "source": [
        "## Book1 - exercise 1 part1"
      ],
      "metadata": {
        "id": "7yqqDr1TRJtr"
      }
    },
    {
      "cell_type": "code",
      "execution_count": null,
      "metadata": {
        "id": "tIpJkgruMacM"
      },
      "outputs": [],
      "source": [
        "users = [\n",
        "{ \"id\": 0, \"name\": \"Hero\" },\n",
        "{ \"id\": 1, \"name\": \"Dunn\" },\n",
        "{ \"id\": 2, \"name\": \"Sue\" },\n",
        "{ \"id\": 3, \"name\": \"Chi\" },\n",
        "{ \"id\": 4, \"name\": \"Thor\" },\n",
        "{ \"id\": 5, \"name\": \"Clive\" },\n",
        "{ \"id\": 6, \"name\": \"Hicks\" },\n",
        "{ \"id\": 7, \"name\": \"Devin\" },\n",
        "{ \"id\": 8, \"name\": \"Kate\" },\n",
        "{ \"id\": 9, \"name\": \"Klein\" },\n",
        "]\n",
        "\n",
        "#Friendship\n",
        "friendship_pairs = [(0, 1), (0, 2), (1, 2), (1, 3), (2, 3), (3, 4),\n",
        "(4, 5), (5, 6), (5, 7), (6, 8), (7, 8), (8, 9)]"
      ]
    },
    {
      "cell_type": "code",
      "source": [
        "friendships = {user[\"id\"]: [] for user in users}\n",
        "for i, j in friendship_pairs:\n",
        "    friendships[i].append(j) # Add j as a friend of user i\n",
        "    friendships[j].append(i) # Add i as a friend of user j"
      ],
      "metadata": {
        "id": "wTPUHznjg4Bh"
      },
      "execution_count": null,
      "outputs": []
    },
    {
      "cell_type": "code",
      "source": [
        "#What’s the average number of connections?\n",
        "#Book solution\n",
        "## We find the total number of connections, by summing up the lengths of all the friends lists:\n",
        "def number_of_friends(user):\n",
        "    \"\"\"How many friends does _user_ have?\"\"\"\n",
        "    user_id = user[\"id\"]\n",
        "    friend_ids = friendships[user_id]\n",
        "    return len(friend_ids)\n",
        "\n",
        "total_connections = sum(number_of_friends(user) for user in users)"
      ],
      "metadata": {
        "id": "8ajB1TbgOWX-"
      },
      "execution_count": null,
      "outputs": []
    },
    {
      "cell_type": "code",
      "source": [
        "#And then we just divide by the number of users:\n",
        "num_users = len(friendships) # length of the users list\n",
        "avg_connections = total_connections / num_users  "
      ],
      "metadata": {
        "id": "eNwuEd6yrtZQ"
      },
      "execution_count": null,
      "outputs": []
    },
    {
      "cell_type": "code",
      "source": [
        "len(friendships)"
      ],
      "metadata": {
        "colab": {
          "base_uri": "https://localhost:8080/"
        },
        "id": "Qft5jNZXinjr",
        "outputId": "9a2ac6f4-b4ba-4a03-c2a2-41c7df922095"
      },
      "execution_count": null,
      "outputs": [
        {
          "output_type": "execute_result",
          "data": {
            "text/plain": [
              "10"
            ]
          },
          "metadata": {},
          "execution_count": 12
        }
      ]
    },
    {
      "cell_type": "code",
      "source": [
        "#My solution\n",
        "#And then we just divide by the number of users:\n",
        "num_users = len(friendships) # length of the users list\n",
        "sum(len(friendships[user]) for user in friendships) / num_users"
      ],
      "metadata": {
        "colab": {
          "base_uri": "https://localhost:8080/"
        },
        "id": "VIuFNQDOrZ0k",
        "outputId": "c6fa99e8-147f-43c6-9362-624229729c1b"
      },
      "execution_count": null,
      "outputs": [
        {
          "output_type": "execute_result",
          "data": {
            "text/plain": [
              "2.4"
            ]
          },
          "metadata": {},
          "execution_count": 13
        }
      ]
    },
    {
      "cell_type": "code",
      "source": [
        "friendships"
      ],
      "metadata": {
        "id": "wbXwUQ-LvefG",
        "outputId": "49df6ada-7b66-4c46-ce7d-5c07deababe5",
        "colab": {
          "base_uri": "https://localhost:8080/"
        }
      },
      "execution_count": null,
      "outputs": [
        {
          "output_type": "execute_result",
          "data": {
            "text/plain": [
              "{0: [1, 2],\n",
              " 1: [0, 2, 3],\n",
              " 2: [0, 1, 3],\n",
              " 3: [1, 2, 4],\n",
              " 4: [3, 5],\n",
              " 5: [4, 6, 7],\n",
              " 6: [5, 8],\n",
              " 7: [5, 8],\n",
              " 8: [6, 7, 9],\n",
              " 9: [8]}"
            ]
          },
          "metadata": {},
          "execution_count": 14
        }
      ]
    },
    {
      "cell_type": "code",
      "source": [
        "#Verification\n",
        "total_connections == sum(len(friendships[user]) for user in friendships)"
      ],
      "metadata": {
        "colab": {
          "base_uri": "https://localhost:8080/"
        },
        "id": "psVxrNW6rk4C",
        "outputId": "bc13a927-980a-4ac3-b277-241e76bb2581"
      },
      "execution_count": null,
      "outputs": [
        {
          "output_type": "execute_result",
          "data": {
            "text/plain": [
              "True"
            ]
          },
          "metadata": {},
          "execution_count": 15
        }
      ]
    },
    {
      "cell_type": "code",
      "source": [
        "#Order them from \"most friends ”to“ less friends ”:\n",
        "# Create a list (user_id, number_of_friends).\n",
        "num_friends_by_id = [(user[\"id\"], number_of_friends(user)) for user in users]"
      ],
      "metadata": {
        "id": "Dc7hhL0fseEV"
      },
      "execution_count": null,
      "outputs": []
    },
    {
      "cell_type": "code",
      "source": [
        "num_friends_by_id"
      ],
      "metadata": {
        "colab": {
          "base_uri": "https://localhost:8080/"
        },
        "id": "mu3dOxPMqjcG",
        "outputId": "c2a45c5c-ed3b-4dc4-ae11-f2b7bd041054"
      },
      "execution_count": null,
      "outputs": [
        {
          "output_type": "execute_result",
          "data": {
            "text/plain": [
              "[(0, 2),\n",
              " (1, 3),\n",
              " (2, 3),\n",
              " (3, 3),\n",
              " (4, 2),\n",
              " (5, 3),\n",
              " (6, 2),\n",
              " (7, 2),\n",
              " (8, 3),\n",
              " (9, 1)]"
            ]
          },
          "metadata": {},
          "execution_count": 17
        }
      ]
    },
    {
      "cell_type": "code",
      "source": [
        "#My solution\n",
        "[(user, len(friendships[user])) for user in friendships]"
      ],
      "metadata": {
        "colab": {
          "base_uri": "https://localhost:8080/"
        },
        "id": "JT8i4tr38gK0",
        "outputId": "277e7a92-30cb-41c9-8ec0-0b1e3b391b36"
      },
      "execution_count": null,
      "outputs": [
        {
          "output_type": "execute_result",
          "data": {
            "text/plain": [
              "[(0, 2),\n",
              " (1, 3),\n",
              " (2, 3),\n",
              " (3, 3),\n",
              " (4, 2),\n",
              " (5, 3),\n",
              " (6, 2),\n",
              " (7, 2),\n",
              " (8, 3),\n",
              " (9, 1)]"
            ]
          },
          "metadata": {},
          "execution_count": 18
        }
      ]
    },
    {
      "cell_type": "code",
      "source": [
        "#Verification\n",
        "num_friends_by_id == [(user, len(friendships[user])) for user in friendships]"
      ],
      "metadata": {
        "colab": {
          "base_uri": "https://localhost:8080/"
        },
        "id": "lePj7McR89b4",
        "outputId": "2c32b3b7-bcf2-4674-da87-f3a9356c7165"
      },
      "execution_count": null,
      "outputs": [
        {
          "output_type": "execute_result",
          "data": {
            "text/plain": [
              "True"
            ]
          },
          "metadata": {},
          "execution_count": 19
        }
      ]
    },
    {
      "cell_type": "code",
      "source": [
        "#Book solution\n",
        "num_friends_by_id.sort(# Sort the list\n",
        "    key=lambda id_and_friends: id_and_friends[1],# by num_friends\n",
        "    reverse=False)# largest to smallest"
      ],
      "metadata": {
        "id": "pmb7YsAKtpaH"
      },
      "execution_count": null,
      "outputs": []
    },
    {
      "cell_type": "code",
      "source": [
        "num_friends_by_id"
      ],
      "metadata": {
        "colab": {
          "base_uri": "https://localhost:8080/"
        },
        "id": "ZtmkQN5B6lWY",
        "outputId": "c21dd148-3f4a-4caa-ee2f-5740110db920"
      },
      "execution_count": null,
      "outputs": [
        {
          "output_type": "execute_result",
          "data": {
            "text/plain": [
              "[(9, 1),\n",
              " (0, 2),\n",
              " (4, 2),\n",
              " (6, 2),\n",
              " (7, 2),\n",
              " (1, 3),\n",
              " (2, 3),\n",
              " (3, 3),\n",
              " (5, 3),\n",
              " (8, 3)]"
            ]
          },
          "metadata": {},
          "execution_count": 21
        }
      ]
    },
    {
      "cell_type": "markdown",
      "source": [
        "## Book1 - exercise 1 part2\n",
        "Friends you may know\n"
      ],
      "metadata": {
        "id": "-8wzPoF469-j"
      }
    },
    {
      "cell_type": "code",
      "source": [
        "# Bad alternative\n",
        "def foaf_ids_bad(user):\n",
        "    \"\"\"foaf is short for \"friend of a friend\" \"\"\"\n",
        "    return [foaf_id\n",
        "            for friend_id in friendships[user[\"id\"]]\n",
        "            for foaf_id in friendships[friend_id]]\n"
      ],
      "metadata": {
        "id": "gA_ERCHTrM5z"
      },
      "execution_count": null,
      "outputs": []
    },
    {
      "cell_type": "code",
      "source": [
        "foaf_ids_bad(users[3]) #repeat friend and my id"
      ],
      "metadata": {
        "colab": {
          "base_uri": "https://localhost:8080/"
        },
        "id": "gs-Fe66KHeY8",
        "outputId": "ecf0c597-47ef-4e3c-a108-1a73767cd1c9"
      },
      "execution_count": null,
      "outputs": [
        {
          "output_type": "execute_result",
          "data": {
            "text/plain": [
              "[0, 2, 3, 0, 1, 3, 3, 5]"
            ]
          },
          "metadata": {},
          "execution_count": 34
        }
      ]
    },
    {
      "cell_type": "code",
      "source": [
        "from collections import Counter # not loaded by default\n",
        "def friends_of_friends(user):\n",
        "    user_id = user[\"id\"]\n",
        "    return Counter(\n",
        "        foaf_id\n",
        "        for friend_id in friendships[user_id] # For each of my friends,\n",
        "        for foaf_id in friendships[friend_id] # find their friends\n",
        "        if foaf_id != user_id # who aren't me\n",
        "        and foaf_id not in friendships[user_id] # and aren't my friends.\n",
        "        )\n",
        "print(friends_of_friends(users[3])) "
      ],
      "metadata": {
        "colab": {
          "base_uri": "https://localhost:8080/"
        },
        "id": "9f279rQB9r8x",
        "outputId": "d1e59100-74df-4441-bb5c-b24534bf64e2"
      },
      "execution_count": null,
      "outputs": [
        {
          "output_type": "stream",
          "name": "stdout",
          "text": [
            "Counter({0: 2, 5: 1})\n"
          ]
        }
      ]
    },
    {
      "cell_type": "code",
      "source": [
        "print(friends_of_friends(users[3])) # Counter({0: 2, 5: 1})"
      ],
      "metadata": {
        "colab": {
          "base_uri": "https://localhost:8080/"
        },
        "id": "sKEDpZQl-Tj5",
        "outputId": "e2e9f8c0-2c5f-433a-ebed-05c421468711"
      },
      "execution_count": null,
      "outputs": [
        {
          "output_type": "stream",
          "name": "stdout",
          "text": [
            "Counter({0: 2, 5: 1})\n"
          ]
        }
      ]
    },
    {
      "cell_type": "code",
      "source": [
        "#Add improvement\n",
        "def friends_of_friends2(user):\n",
        "    user_id = user[\"id\"]\n",
        "    myFriend = friendships[user_id]\n",
        "    return Counter(\n",
        "        foaf_id\n",
        "        for friend_id in  myFriend# For each of my friends,\n",
        "        for foaf_id in friendships[friend_id] # find their friends\n",
        "        if foaf_id != user_id # who aren't me\n",
        "        and foaf_id not in myFriend # and aren't my friends.\n",
        "        )"
      ],
      "metadata": {
        "id": "f6X-qmwXAkWq"
      },
      "execution_count": null,
      "outputs": []
    },
    {
      "cell_type": "code",
      "source": [
        "print(friends_of_friends2(users[3])) # Counter({0: 2, 5: 1})"
      ],
      "metadata": {
        "colab": {
          "base_uri": "https://localhost:8080/"
        },
        "id": "xnaLZGZwGBB8",
        "outputId": "56d29ec8-c578-44dc-d01b-5092a9ba0437"
      },
      "execution_count": null,
      "outputs": [
        {
          "output_type": "stream",
          "name": "stdout",
          "text": [
            "Counter({0: 2, 5: 1})\n"
          ]
        }
      ]
    }
  ]
}